{
 "cells": [
  {
   "cell_type": "code",
   "execution_count": 2,
   "metadata": {},
   "outputs": [
    {
     "name": "stderr",
     "output_type": "stream",
     "text": [
      "ERROR: Could not find a version that satisfies the requirement potrace (from versions: none)\n",
      "ERROR: No matching distribution found for potrace\n"
     ]
    }
   ],
   "source": [
    "!pip install potrace"
   ]
  },
  {
   "cell_type": "code",
   "execution_count": 5,
   "metadata": {},
   "outputs": [
    {
     "name": "stdout",
     "output_type": "stream",
     "text": [
      "Requirement already satisfied: pillow in c:\\users\\poppo\\anaconda3\\envs\\video\\lib\\site-packages (10.3.0)\n",
      "Requirement already satisfied: opencv-python in c:\\users\\poppo\\appdata\\roaming\\python\\python310\\site-packages (4.8.0.74)\n",
      "Collecting svgwrite\n",
      "  Downloading svgwrite-1.4.3-py3-none-any.whl.metadata (8.8 kB)\n",
      "Requirement already satisfied: numpy>=1.21.2 in c:\\users\\poppo\\anaconda3\\envs\\video\\lib\\site-packages (from opencv-python) (1.26.4)\n",
      "Downloading svgwrite-1.4.3-py3-none-any.whl (67 kB)\n",
      "   ---------------------------------------- 0.0/67.1 kB ? eta -:--:--\n",
      "   ------ --------------------------------- 10.2/67.1 kB ? eta -:--:--\n",
      "   ---------------------------------------- 67.1/67.1 kB 902.9 kB/s eta 0:00:00\n",
      "Installing collected packages: svgwrite\n",
      "Successfully installed svgwrite-1.4.3\n"
     ]
    }
   ],
   "source": [
    "!pip install pillow opencv-python svgwrite"
   ]
  },
  {
   "cell_type": "code",
   "execution_count": 9,
   "metadata": {},
   "outputs": [
    {
     "name": "stdout",
     "output_type": "stream",
     "text": [
      "SVG vector graphic saved to output_vector_image.svg\n"
     ]
    }
   ],
   "source": [
    "import cv2\n",
    "import svgwrite\n",
    "from PIL import Image\n",
    "\n",
    "def raster_to_svg(image_path, output_svg_path):\n",
    "    # Load the image using PIL and convert it to grayscale\n",
    "    image = Image.open(image_path).convert('L')  # Convert to grayscale\n",
    "    image.save(\"temp_grayscale.png\")  # Save temporarily for OpenCV to read\n",
    "\n",
    "    # Read the image using OpenCV\n",
    "    img = cv2.imread(\"temp_grayscale.png\", 0)\n",
    "\n",
    "    # Threshold the image to get a binary version\n",
    "    _, binary = cv2.threshold(img, 127, 255, cv2.THRESH_BINARY)\n",
    "\n",
    "    # Find contours in the binary image\n",
    "    contours, _ = cv2.findContours(binary, cv2.RETR_EXTERNAL, cv2.CHAIN_APPROX_SIMPLE)\n",
    "\n",
    "    # Create an SVG file to write the contours as paths\n",
    "    dwg = svgwrite.Drawing(output_svg_path, profile='tiny')\n",
    "\n",
    "    # Iterate through each contour and convert it into an SVG path\n",
    "    for contour in contours:\n",
    "        path_data = \"M \" + \" \".join(f\"{point[0][0]},{point[0][1]}\" for point in contour)\n",
    "        path_data += \" Z\"\n",
    "        dwg.add(dwg.path(d=path_data, fill='black'))\n",
    "\n",
    "    # Save the SVG file\n",
    "    dwg.save()\n",
    "    print(f\"SVG vector graphic saved to {output_svg_path}\")\n",
    "\n",
    "# Example usage\n",
    "image_path = \"dfsfs.png\"  # Replace with your image path\n",
    "output_svg_path = \"output_vector_image.svg\"  # Path to save the SVG file\n",
    "\n",
    "raster_to_svg(image_path, output_svg_path)\n"
   ]
  },
  {
   "cell_type": "code",
   "execution_count": 8,
   "metadata": {},
   "outputs": [
    {
     "ename": "ModuleNotFoundError",
     "evalue": "No module named 'potrace'",
     "output_type": "error",
     "traceback": [
      "\u001b[1;31m---------------------------------------------------------------------------\u001b[0m",
      "\u001b[1;31mModuleNotFoundError\u001b[0m                       Traceback (most recent call last)",
      "Cell \u001b[1;32mIn[8], line 2\u001b[0m\n\u001b[0;32m      1\u001b[0m \u001b[38;5;28;01mfrom\u001b[39;00m \u001b[38;5;21;01mPIL\u001b[39;00m \u001b[38;5;28;01mimport\u001b[39;00m Image\n\u001b[1;32m----> 2\u001b[0m \u001b[38;5;28;01mimport\u001b[39;00m \u001b[38;5;21;01mpotrace\u001b[39;00m\n\u001b[0;32m      4\u001b[0m \u001b[38;5;28;01mdef\u001b[39;00m \u001b[38;5;21mraster_to_svg\u001b[39m(image_path, output_svg_path):\n\u001b[0;32m      5\u001b[0m     \u001b[38;5;66;03m# Open the image using PIL\u001b[39;00m\n\u001b[0;32m      6\u001b[0m     image \u001b[38;5;241m=\u001b[39m Image\u001b[38;5;241m.\u001b[39mopen(image_path)\u001b[38;5;241m.\u001b[39mconvert(\u001b[38;5;124m'\u001b[39m\u001b[38;5;124mL\u001b[39m\u001b[38;5;124m'\u001b[39m)  \u001b[38;5;66;03m# Convert to grayscale for tracing\u001b[39;00m\n",
      "\u001b[1;31mModuleNotFoundError\u001b[0m: No module named 'potrace'"
     ]
    }
   ],
   "source": [
    "from PIL import Image\n",
    "import potrace\n",
    "\n",
    "def raster_to_svg(image_path, output_svg_path):\n",
    "    # Open the image using PIL\n",
    "    image = Image.open(image_path).convert('L')  # Convert to grayscale for tracing\n",
    "\n",
    "    # Create a bitmap from the grayscale image\n",
    "    bitmap = potrace.Bitmap(image)\n",
    "    path = bitmap.trace()\n",
    "\n",
    "    # Create the SVG file and write the vector paths\n",
    "    with open(output_svg_path, 'w') as svg_file:\n",
    "        svg_file.write('<svg xmlns=\"http://www.w3.org/2000/svg\" version=\"1.1\">\\n')\n",
    "\n",
    "        # Iterate through the paths and write them as SVG paths\n",
    "        for curve in path:\n",
    "            svg_file.write('<path d=\"')\n",
    "            for segment in curve:\n",
    "                if segment.is_corner:\n",
    "                    svg_file.write(f'L {segment.c1.x} {segment.c1.y} ')\n",
    "                else:\n",
    "                    svg_file.write(f'Q {segment.c1.x} {segment.c1.y} {segment.c2.x} {segment.c2.y} ')\n",
    "            svg_file.write(f'Z\" fill=\"black\"/>\\n')\n",
    "        \n",
    "        svg_file.write('</svg>\\n')\n",
    "\n",
    "    print(f\"SVG vector graphic saved to {output_svg_path}\")\n",
    "\n",
    "# Example usage\n",
    "image_path = \"dfsfs.png\"  # Replace with your image path\n",
    "output_svg_path = \"output_vector_image.svg\"  # Path to save the SVG file\n",
    "\n",
    "raster_to_svg(image_path, output_svg_path)\n"
   ]
  },
  {
   "cell_type": "code",
   "execution_count": 10,
   "metadata": {},
   "outputs": [
    {
     "name": "stdout",
     "output_type": "stream",
     "text": [
      "SVG vector graphic saved to output_vector_image.svg\n"
     ]
    }
   ],
   "source": [
    "import cv2\n",
    "import svgwrite\n",
    "from PIL import Image\n",
    "import os\n",
    "\n",
    "def raster_to_svg(image_path, output_svg_path):\n",
    "    # Check if the input image exists\n",
    "    if not os.path.exists(image_path):\n",
    "        print(f\"Error: The file '{image_path}' does not exist.\")\n",
    "        return\n",
    "\n",
    "    try:\n",
    "        # Load the image using PIL and convert it to grayscale\n",
    "        image = Image.open(image_path).convert('L')  # Convert to grayscale\n",
    "        temp_image_path = \"temp_grayscale.png\"\n",
    "        image.save(temp_image_path)  # Save temporarily for OpenCV to read\n",
    "\n",
    "        # Read the image using OpenCV\n",
    "        img = cv2.imread(temp_image_path, 0)\n",
    "\n",
    "        # Use adaptive thresholding for better results\n",
    "        binary = cv2.adaptiveThreshold(\n",
    "            img, 255, cv2.ADAPTIVE_THRESH_GAUSSIAN_C, cv2.THRESH_BINARY, 11, 2\n",
    "        )\n",
    "\n",
    "        # Find contours in the binary image\n",
    "        contours, _ = cv2.findContours(binary, cv2.RETR_EXTERNAL, cv2.CHAIN_APPROX_SIMPLE)\n",
    "\n",
    "        # Create an SVG file to write the contours as paths\n",
    "        dwg = svgwrite.Drawing(output_svg_path, profile='tiny')\n",
    "\n",
    "        # Iterate through each contour and convert it into an SVG path\n",
    "        for contour in contours:\n",
    "            path_data = \"M \" + \" \".join(f\"{point[0][0]},{point[0][1]}\" for point in contour)\n",
    "            path_data += \" Z\"\n",
    "            dwg.add(dwg.path(d=path_data, fill='black'))\n",
    "\n",
    "        # Save the SVG file\n",
    "        dwg.save()\n",
    "        print(f\"SVG vector graphic saved to {output_svg_path}\")\n",
    "\n",
    "    except Exception as e:\n",
    "        print(f\"An error occurred: {e}\")\n",
    "\n",
    "# Example usage\n",
    "image_path = \"dfsfs.png\"  # Replace with your image path\n",
    "output_svg_path = \"output_vector_image.svg\"  # Path to save the SVG file\n",
    "\n",
    "raster_to_svg(image_path, output_svg_path)\n"
   ]
  },
  {
   "cell_type": "code",
   "execution_count": 11,
   "metadata": {},
   "outputs": [
    {
     "name": "stdout",
     "output_type": "stream",
     "text": [
      "SVG vector graphic saved to output_color_vector_image.svg\n"
     ]
    }
   ],
   "source": [
    "import cv2\n",
    "import svgwrite\n",
    "from PIL import Image\n",
    "import numpy as np\n",
    "import os\n",
    "\n",
    "def raster_to_color_svg(image_path, output_svg_path):\n",
    "    # Check if the input image exists\n",
    "    if not os.path.exists(image_path):\n",
    "        print(f\"Error: The file '{image_path}' does not exist.\")\n",
    "        return\n",
    "\n",
    "    try:\n",
    "        # Load the image using OpenCV\n",
    "        img = cv2.imread(image_path)\n",
    "        if img is None:\n",
    "            print(f\"Error: Failed to load the image from '{image_path}'\")\n",
    "            return\n",
    "\n",
    "        # Convert to RGB format (OpenCV loads images as BGR by default)\n",
    "        img_rgb = cv2.cvtColor(img, cv2.COLOR_BGR2RGB)\n",
    "\n",
    "        # Resize the image if needed for better processing\n",
    "        scale_percent = 50  # Reduce size to 50% for faster processing (adjust as needed)\n",
    "        width = int(img_rgb.shape[1] * scale_percent / 100)\n",
    "        height = int(img_rgb.shape[0] * scale_percent / 100)\n",
    "        resized_img = cv2.resize(img_rgb, (width, height), interpolation=cv2.INTER_AREA)\n",
    "\n",
    "        # Convert the resized image to a grayscale image for contour detection\n",
    "        gray = cv2.cvtColor(resized_img, cv2.COLOR_RGB2GRAY)\n",
    "        _, binary = cv2.threshold(gray, 127, 255, cv2.THRESH_BINARY)\n",
    "\n",
    "        # Find contours in the binary image\n",
    "        contours, _ = cv2.findContours(binary, cv2.RETR_EXTERNAL, cv2.CHAIN_APPROX_SIMPLE)\n",
    "\n",
    "        # Create an SVG file to write the contours as paths with color fills\n",
    "        dwg = svgwrite.Drawing(output_svg_path, profile='tiny', size=(width, height))\n",
    "\n",
    "        # Iterate through each contour\n",
    "        for contour in contours:\n",
    "            # Create a mask for the current contour\n",
    "            mask = np.zeros_like(resized_img)\n",
    "            cv2.drawContours(mask, [contour], -1, (255, 255, 255), thickness=cv2.FILLED)\n",
    "\n",
    "            # Calculate the mean color inside the contour\n",
    "            mean_color = cv2.mean(resized_img, mask=cv2.cvtColor(mask, cv2.COLOR_RGB2GRAY))[:3]\n",
    "            fill_color = svgwrite.utils.rgb(*[int(c) for c in mean_color])\n",
    "\n",
    "            # Create the SVG path data for the contour\n",
    "            path_data = \"M \" + \" \".join(f\"{point[0][0]},{point[0][1]}\" for point in contour)\n",
    "            path_data += \" Z\"\n",
    "\n",
    "            # Add the path to the SVG with the calculated fill color\n",
    "            dwg.add(dwg.path(d=path_data, fill=fill_color, stroke='none'))\n",
    "\n",
    "        # Save the SVG file\n",
    "        dwg.save()\n",
    "        print(f\"SVG vector graphic saved to {output_svg_path}\")\n",
    "\n",
    "    except Exception as e:\n",
    "        print(f\"An error occurred: {e}\")\n",
    "\n",
    "# Example usage\n",
    "image_path = \"dfsfs.png\"  # Replace with your image path\n",
    "output_svg_path = \"output_color_vector_image.svg\"  # Path to save the SVG file\n",
    "\n",
    "raster_to_color_svg(image_path, output_svg_path)\n"
   ]
  }
 ],
 "metadata": {
  "kernelspec": {
   "display_name": "video",
   "language": "python",
   "name": "python3"
  },
  "language_info": {
   "codemirror_mode": {
    "name": "ipython",
    "version": 3
   },
   "file_extension": ".py",
   "mimetype": "text/x-python",
   "name": "python",
   "nbconvert_exporter": "python",
   "pygments_lexer": "ipython3",
   "version": "3.10.14"
  }
 },
 "nbformat": 4,
 "nbformat_minor": 2
}
